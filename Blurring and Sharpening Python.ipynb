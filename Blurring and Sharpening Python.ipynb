{
 "cells": [
  {
   "cell_type": "code",
   "execution_count": 2,
   "id": "56cf26dd",
   "metadata": {},
   "outputs": [],
   "source": [
    "import cv2\n",
    "import numpy as np\n",
    "import matplotlib.pyplot as plt"
   ]
  },
  {
   "cell_type": "code",
   "execution_count": 3,
   "id": "77d96f47",
   "metadata": {},
   "outputs": [
    {
     "data": {
      "text/plain": [
       "array([[[126, 184, 233],\n",
       "        [126, 184, 233],\n",
       "        [126, 186, 232],\n",
       "        ...,\n",
       "        [ 63, 209, 251],\n",
       "        [ 65, 213, 255],\n",
       "        [ 65, 213, 255]],\n",
       "\n",
       "       [[126, 184, 233],\n",
       "        [125, 184, 233],\n",
       "        [126, 186, 232],\n",
       "        ...,\n",
       "        [ 61, 209, 251],\n",
       "        [ 64, 212, 254],\n",
       "        [ 63, 213, 254]],\n",
       "\n",
       "       [[126, 185, 234],\n",
       "        [124, 186, 234],\n",
       "        [124, 186, 232],\n",
       "        ...,\n",
       "        [ 59, 208, 252],\n",
       "        [ 61, 210, 254],\n",
       "        [ 59, 210, 254]],\n",
       "\n",
       "       ...,\n",
       "\n",
       "       [[ 99, 225, 253],\n",
       "        [ 99, 225, 253],\n",
       "        [100, 224, 254],\n",
       "        ...,\n",
       "        [  0,  99,  47],\n",
       "        [  0,  95,  45],\n",
       "        [  2,  94,  45]],\n",
       "\n",
       "       [[ 99, 225, 253],\n",
       "        [ 99, 225, 253],\n",
       "        [ 99, 225, 253],\n",
       "        ...,\n",
       "        [  3, 101,  49],\n",
       "        [  0,  95,  45],\n",
       "        [  2,  94,  45]],\n",
       "\n",
       "       [[ 99, 225, 253],\n",
       "        [ 99, 225, 253],\n",
       "        [ 99, 225, 253],\n",
       "        ...,\n",
       "        [  6, 104,  52],\n",
       "        [  0,  95,  45],\n",
       "        [  2,  94,  45]]], dtype=uint8)"
      ]
     },
     "execution_count": 3,
     "metadata": {},
     "output_type": "execute_result"
    }
   ],
   "source": [
    "img = cv2.imread(\"C:/Users/Jay Ajmera/Downloads/imgg.jpg\")\n",
    "img"
   ]
  },
  {
   "cell_type": "code",
   "execution_count": 12,
   "id": "f73e87e4",
   "metadata": {},
   "outputs": [
    {
     "data": {
      "text/plain": [
       "array([[0, 0, 0],\n",
       "       [0, 1, 0],\n",
       "       [0, 0, 0]])"
      ]
     },
     "execution_count": 12,
     "metadata": {},
     "output_type": "execute_result"
    }
   ],
   "source": [
    "#full pic blur\n",
    "id_kern = np.array([[0,0,0],[0,1,0],[0,0,0]])\n",
    "id_kern"
   ]
  },
  {
   "cell_type": "code",
   "execution_count": 13,
   "id": "043f60db",
   "metadata": {},
   "outputs": [
    {
     "data": {
      "text/plain": [
       "array([[0.00826446, 0.00826446, 0.00826446, 0.00826446, 0.00826446,\n",
       "        0.00826446, 0.00826446, 0.00826446, 0.00826446, 0.00826446,\n",
       "        0.00826446],\n",
       "       [0.00826446, 0.00826446, 0.00826446, 0.00826446, 0.00826446,\n",
       "        0.00826446, 0.00826446, 0.00826446, 0.00826446, 0.00826446,\n",
       "        0.00826446],\n",
       "       [0.00826446, 0.00826446, 0.00826446, 0.00826446, 0.00826446,\n",
       "        0.00826446, 0.00826446, 0.00826446, 0.00826446, 0.00826446,\n",
       "        0.00826446],\n",
       "       [0.00826446, 0.00826446, 0.00826446, 0.00826446, 0.00826446,\n",
       "        0.00826446, 0.00826446, 0.00826446, 0.00826446, 0.00826446,\n",
       "        0.00826446],\n",
       "       [0.00826446, 0.00826446, 0.00826446, 0.00826446, 0.00826446,\n",
       "        0.00826446, 0.00826446, 0.00826446, 0.00826446, 0.00826446,\n",
       "        0.00826446],\n",
       "       [0.00826446, 0.00826446, 0.00826446, 0.00826446, 0.00826446,\n",
       "        0.00826446, 0.00826446, 0.00826446, 0.00826446, 0.00826446,\n",
       "        0.00826446],\n",
       "       [0.00826446, 0.00826446, 0.00826446, 0.00826446, 0.00826446,\n",
       "        0.00826446, 0.00826446, 0.00826446, 0.00826446, 0.00826446,\n",
       "        0.00826446],\n",
       "       [0.00826446, 0.00826446, 0.00826446, 0.00826446, 0.00826446,\n",
       "        0.00826446, 0.00826446, 0.00826446, 0.00826446, 0.00826446,\n",
       "        0.00826446],\n",
       "       [0.00826446, 0.00826446, 0.00826446, 0.00826446, 0.00826446,\n",
       "        0.00826446, 0.00826446, 0.00826446, 0.00826446, 0.00826446,\n",
       "        0.00826446],\n",
       "       [0.00826446, 0.00826446, 0.00826446, 0.00826446, 0.00826446,\n",
       "        0.00826446, 0.00826446, 0.00826446, 0.00826446, 0.00826446,\n",
       "        0.00826446],\n",
       "       [0.00826446, 0.00826446, 0.00826446, 0.00826446, 0.00826446,\n",
       "        0.00826446, 0.00826446, 0.00826446, 0.00826446, 0.00826446,\n",
       "        0.00826446]], dtype=float32)"
      ]
     },
     "execution_count": 13,
     "metadata": {},
     "output_type": "execute_result"
    }
   ],
   "source": [
    "blurring_kern3 = np.ones((3,3),dtype = np.float32)/9.0\n",
    "blurring_kern11 = np.ones((11,11),dtype = np.float32)/121.0\n",
    "blurring_kern11"
   ]
  },
  {
   "cell_type": "code",
   "execution_count": 14,
   "id": "ad5e8a46",
   "metadata": {
    "scrolled": true
   },
   "outputs": [
    {
     "data": {
      "text/plain": [
       "array([[[126, 184, 233],\n",
       "        [126, 184, 233],\n",
       "        [126, 186, 232],\n",
       "        ...,\n",
       "        [ 63, 209, 251],\n",
       "        [ 65, 213, 255],\n",
       "        [ 65, 213, 255]],\n",
       "\n",
       "       [[126, 184, 233],\n",
       "        [125, 184, 233],\n",
       "        [126, 186, 232],\n",
       "        ...,\n",
       "        [ 61, 209, 251],\n",
       "        [ 64, 212, 254],\n",
       "        [ 63, 213, 254]],\n",
       "\n",
       "       [[126, 185, 234],\n",
       "        [124, 186, 234],\n",
       "        [124, 186, 232],\n",
       "        ...,\n",
       "        [ 59, 208, 252],\n",
       "        [ 61, 210, 254],\n",
       "        [ 59, 210, 254]],\n",
       "\n",
       "       ...,\n",
       "\n",
       "       [[ 99, 225, 253],\n",
       "        [ 99, 225, 253],\n",
       "        [100, 224, 254],\n",
       "        ...,\n",
       "        [  0,  99,  47],\n",
       "        [  0,  95,  45],\n",
       "        [  2,  94,  45]],\n",
       "\n",
       "       [[ 99, 225, 253],\n",
       "        [ 99, 225, 253],\n",
       "        [ 99, 225, 253],\n",
       "        ...,\n",
       "        [  3, 101,  49],\n",
       "        [  0,  95,  45],\n",
       "        [  2,  94,  45]],\n",
       "\n",
       "       [[ 99, 225, 253],\n",
       "        [ 99, 225, 253],\n",
       "        [ 99, 225, 253],\n",
       "        ...,\n",
       "        [  6, 104,  52],\n",
       "        [  0,  95,  45],\n",
       "        [  2,  94,  45]]], dtype=uint8)"
      ]
     },
     "execution_count": 14,
     "metadata": {},
     "output_type": "execute_result"
    }
   ],
   "source": [
    "\n",
    "out1 = cv2.filter2D(img,-1,id_kern)\n",
    "out2 = cv2.filter2D(img,-1,blurring_kern3)\n",
    "out3 = cv2.filter2D(img,-1,blurring_kern11)\n",
    "out1"
   ]
  },
  {
   "cell_type": "code",
   "execution_count": null,
   "id": "2ba71d21",
   "metadata": {},
   "outputs": [],
   "source": [
    "cv2.imshow('same',out1)\n",
    "cv2.imshow('3',out2)\n",
    "cv2.imshow('11',out3)\n",
    "cv2.waitKey(0)"
   ]
  },
  {
   "cell_type": "code",
   "execution_count": null,
   "id": "64990a0f",
   "metadata": {},
   "outputs": [],
   "source": [
    "#motion blur"
   ]
  },
  {
   "cell_type": "code",
   "execution_count": 4,
   "id": "6eb42b76",
   "metadata": {},
   "outputs": [
    {
     "data": {
      "text/plain": [
       "array([[0.        , 0.        , 0.        , 0.        , 0.        ,\n",
       "        0.        , 0.        , 0.06666667, 0.        , 0.        ,\n",
       "        0.        , 0.        , 0.        , 0.        , 0.        ],\n",
       "       [0.        , 0.        , 0.        , 0.        , 0.        ,\n",
       "        0.        , 0.        , 0.06666667, 0.        , 0.        ,\n",
       "        0.        , 0.        , 0.        , 0.        , 0.        ],\n",
       "       [0.        , 0.        , 0.        , 0.        , 0.        ,\n",
       "        0.        , 0.        , 0.06666667, 0.        , 0.        ,\n",
       "        0.        , 0.        , 0.        , 0.        , 0.        ],\n",
       "       [0.        , 0.        , 0.        , 0.        , 0.        ,\n",
       "        0.        , 0.        , 0.06666667, 0.        , 0.        ,\n",
       "        0.        , 0.        , 0.        , 0.        , 0.        ],\n",
       "       [0.        , 0.        , 0.        , 0.        , 0.        ,\n",
       "        0.        , 0.        , 0.06666667, 0.        , 0.        ,\n",
       "        0.        , 0.        , 0.        , 0.        , 0.        ],\n",
       "       [0.        , 0.        , 0.        , 0.        , 0.        ,\n",
       "        0.        , 0.        , 0.06666667, 0.        , 0.        ,\n",
       "        0.        , 0.        , 0.        , 0.        , 0.        ],\n",
       "       [0.        , 0.        , 0.        , 0.        , 0.        ,\n",
       "        0.        , 0.        , 0.06666667, 0.        , 0.        ,\n",
       "        0.        , 0.        , 0.        , 0.        , 0.        ],\n",
       "       [0.        , 0.        , 0.        , 0.        , 0.        ,\n",
       "        0.        , 0.        , 0.06666667, 0.        , 0.        ,\n",
       "        0.        , 0.        , 0.        , 0.        , 0.        ],\n",
       "       [0.        , 0.        , 0.        , 0.        , 0.        ,\n",
       "        0.        , 0.        , 0.06666667, 0.        , 0.        ,\n",
       "        0.        , 0.        , 0.        , 0.        , 0.        ],\n",
       "       [0.        , 0.        , 0.        , 0.        , 0.        ,\n",
       "        0.        , 0.        , 0.06666667, 0.        , 0.        ,\n",
       "        0.        , 0.        , 0.        , 0.        , 0.        ],\n",
       "       [0.        , 0.        , 0.        , 0.        , 0.        ,\n",
       "        0.        , 0.        , 0.06666667, 0.        , 0.        ,\n",
       "        0.        , 0.        , 0.        , 0.        , 0.        ],\n",
       "       [0.        , 0.        , 0.        , 0.        , 0.        ,\n",
       "        0.        , 0.        , 0.06666667, 0.        , 0.        ,\n",
       "        0.        , 0.        , 0.        , 0.        , 0.        ],\n",
       "       [0.        , 0.        , 0.        , 0.        , 0.        ,\n",
       "        0.        , 0.        , 0.06666667, 0.        , 0.        ,\n",
       "        0.        , 0.        , 0.        , 0.        , 0.        ],\n",
       "       [0.        , 0.        , 0.        , 0.        , 0.        ,\n",
       "        0.        , 0.        , 0.06666667, 0.        , 0.        ,\n",
       "        0.        , 0.        , 0.        , 0.        , 0.        ],\n",
       "       [0.        , 0.        , 0.        , 0.        , 0.        ,\n",
       "        0.        , 0.        , 0.06666667, 0.        , 0.        ,\n",
       "        0.        , 0.        , 0.        , 0.        , 0.        ]])"
      ]
     },
     "execution_count": 4,
     "metadata": {},
     "output_type": "execute_result"
    }
   ],
   "source": [
    "size = 15\n",
    "kernel = np.zeros((size,size))\n",
    "kernel[:,7]= np.ones(size)\n",
    "#for horizontal motion blurring make the middle column = 1\n",
    "kernel = kernel/size\n",
    "output= cv2.filter2D(img, -1, kernel)\n",
    "kernel\n"
   ]
  },
  {
   "cell_type": "code",
   "execution_count": null,
   "id": "0daceb02",
   "metadata": {},
   "outputs": [],
   "source": [
    "cv2.imshow( 'motion blur' , output)\n",
    "cv2.imshow('og', img)\n",
    "cv2.waitKey(0)"
   ]
  },
  {
   "cell_type": "code",
   "execution_count": 4,
   "id": "c1e45b67",
   "metadata": {},
   "outputs": [],
   "source": [
    "#sharpening\n",
    "#subtract blurred image from og image\n",
    "#Gauusian kernel for sharpening\n",
    "gaussian_blur = cv2.GaussianBlur(img,(7,7), 2)\n",
    "#Sharpening using addweighted( )\n",
    "sharpened1 = cv2.addWeighted(img, 1.5,gaussian_blur,-0.5,0)\n",
    "sharpened2 = cv2.addWeighted(img, 4.5,gaussian_blur,-3.5,0)\n",
    "sharpened3 = cv2.addWeighted(img, 7.5,gaussian_blur,-6.5,0)\n",
    "#"
   ]
  },
  {
   "cell_type": "code",
   "execution_count": 5,
   "id": "1d51db4a",
   "metadata": {},
   "outputs": [
    {
     "data": {
      "text/plain": [
       "-1"
      ]
     },
     "execution_count": 5,
     "metadata": {},
     "output_type": "execute_result"
    }
   ],
   "source": [
    "#Showing the sharpened Images\n",
    "cv2.imshow('Sharpened3' , sharpened3)\n",
    "cv2.imshow('Sharpened2' , sharpened2)\n",
    "cv2.imshow('Sharpened1' , sharpened1)\n",
    "cv2.waitKey(0)"
   ]
  },
  {
   "cell_type": "code",
   "execution_count": 6,
   "id": "ff94a6bf",
   "metadata": {},
   "outputs": [
    {
     "data": {
      "text/plain": [
       "-1"
      ]
     },
     "execution_count": 6,
     "metadata": {},
     "output_type": "execute_result"
    }
   ],
   "source": [
    "\n",
    "\n",
    "# orginal image\n",
    "img = cv2.imread(\"C:/Users/Jay Ajmera/Downloads/imgg.jpg\",0)\n",
    "img = img/255\n",
    "\n",
    "cv2.imshow('original image', img)\n",
    "cv2.waitKey(0)\n",
    "cv2.destroyAllWindows()\n",
    "\n",
    "# blank image\n",
    "x,y = img.shape\n",
    "g = np.zeros((x,y), dtype=np.float32)\n",
    "\n",
    "# salt and pepper amount\n",
    "pepper = 0.1\n",
    "salt = 0.95\n",
    "\n",
    "# create salt and peper noise image    \n",
    "for i in range(x):\n",
    "    for j in range(y):\n",
    "        rdn = np.random.random()\n",
    "        if rdn < pepper:\n",
    "            g[i][j] = 0\n",
    "        elif rdn > salt:\n",
    "            g[i][j] = 1\n",
    "        else:\n",
    "            g[i][j] = img[i][j]\n",
    "\n",
    "cv2.imshow('image with noise', g)\n",
    "cv2.waitKey(0)"
   ]
  },
  {
   "cell_type": "code",
   "execution_count": 7,
   "id": "05c93e3a",
   "metadata": {},
   "outputs": [
    {
     "data": {
      "text/plain": [
       "array([[0.75294118, 0.75294118, 0.75686275, ..., 0.80392157, 0.81960784,\n",
       "        0.81960784],\n",
       "       [0.75294118, 0.75294118, 0.75686275, ..., 0.80392157, 0.81568627,\n",
       "        0.81568627],\n",
       "       [0.75686275, 0.75686275, 0.75686275, ..., 0.8       , 0.80784314,\n",
       "        0.80784314],\n",
       "       ...,\n",
       "       [0.85882353, 0.85882353, 0.85882353, ..., 0.28235294, 0.27058824,\n",
       "        0.27058824],\n",
       "       [0.85882353, 0.85882353, 0.85882353, ..., 0.29019608, 0.27058824,\n",
       "        0.27058824],\n",
       "       [0.85882353, 0.85882353, 0.85882353, ..., 0.30196078, 0.27058824,\n",
       "        0.27058824]])"
      ]
     },
     "execution_count": 7,
     "metadata": {},
     "output_type": "execute_result"
    }
   ],
   "source": [
    "img"
   ]
  },
  {
   "cell_type": "code",
   "execution_count": 13,
   "id": "31f8bbe0",
   "metadata": {},
   "outputs": [
    {
     "data": {
      "text/plain": [
       "-1"
      ]
     },
     "execution_count": 13,
     "metadata": {},
     "output_type": "execute_result"
    }
   ],
   "source": [
    "\n",
    "from skimage import img_as_ubyte\n",
    "\n",
    "## original image\n",
    "img = cv2.imread(\"C:/Users/Jay Ajmera/Downloads/rode_wali.jpg\")\n",
    "img = img/img.max() # normalize the pixel value (0~1)\n",
    "\n",
    "## noise image\n",
    "# Gaussian Noise\n",
    "# =============================================================================\n",
    "# x, y = img.shape\n",
    "# mean = 0\n",
    "# var = 0.01\n",
    "# sigma = np.sqrt(var)\n",
    "# n = np.random.normal(loc=mean, \n",
    "#                      scale=sigma, \n",
    "#                      size=(x,y))\n",
    "# img_noise = img + n\n",
    "# =============================================================================\n",
    "\n",
    "# Salt and Pepper Noise\n",
    "\n",
    "## denoise image\n",
    "# mean filter (average)\n",
    "m = 5\n",
    "n = 5\n",
    "denoise_mean = cv2.blur(img, (m,n))\n",
    "\n",
    "# median filter\n",
    "img_noise_median = np.clip(img, -1, 1) #pixel value range\n",
    "img_noise_median = img_as_ubyte(img_noise_median) #convert to uint8\n",
    "denoise_median = cv2.medianBlur(img_noise_median, 5)\n",
    "\n",
    "# preview the images\n",
    "cv2.imshow('Original Image', img)\n",
    "cv2.imshow('Image + Noise', img)\n",
    "cv2.imshow('Denoise Mean', denoise_mean)\n",
    "\n",
    "cv2.waitKey(0)"
   ]
  },
  {
   "cell_type": "code",
   "execution_count": null,
   "id": "03e7ce89",
   "metadata": {},
   "outputs": [],
   "source": []
  },
  {
   "cell_type": "code",
   "execution_count": 14,
   "id": "0e9a3623",
   "metadata": {},
   "outputs": [
    {
     "data": {
      "text/plain": [
       "-1"
      ]
     },
     "execution_count": 14,
     "metadata": {},
     "output_type": "execute_result"
    }
   ],
   "source": [
    "cv2.imshow('Denoise Median', denoise_median)\n",
    "cv2.waitKey(0)"
   ]
  },
  {
   "cell_type": "code",
   "execution_count": null,
   "id": "d2a801d4",
   "metadata": {},
   "outputs": [],
   "source": []
  }
 ],
 "metadata": {
  "kernelspec": {
   "display_name": "Python 3 (ipykernel)",
   "language": "python",
   "name": "python3"
  },
  "language_info": {
   "codemirror_mode": {
    "name": "ipython",
    "version": 3
   },
   "file_extension": ".py",
   "mimetype": "text/x-python",
   "name": "python",
   "nbconvert_exporter": "python",
   "pygments_lexer": "ipython3",
   "version": "3.9.12"
  }
 },
 "nbformat": 4,
 "nbformat_minor": 5
}
